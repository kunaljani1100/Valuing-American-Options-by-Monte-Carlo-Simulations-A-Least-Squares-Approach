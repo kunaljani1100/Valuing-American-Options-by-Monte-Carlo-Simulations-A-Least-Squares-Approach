{
  "nbformat": 4,
  "nbformat_minor": 0,
  "metadata": {
    "colab": {
      "name": "optionprice",
      "version": "0.3.2",
      "provenance": [],
      "collapsed_sections": [],
      "toc_visible": true
    },
    "kernelspec": {
      "display_name": "Python 3",
      "name": "python3"
    }
  },
  "cells": [
    {
      "cell_type": "markdown",
      "metadata": {
        "colab_type": "text",
        "id": "5fCEDCU_qrC0"
      },
      "source": [
        "<p><img alt=\"Colaboratory logo\" height=\"45px\" src=\"https://colab.research.google.com/img/colab_favicon.ico\" align=\"left\" hspace=\"10px\" vspace=\"0px\"></p>\n",
        "\n",
        "<h1>Welcome to Colaboratory!</h1>\n",
        "\n",
        "\n",
        "Colaboratory is a free Jupyter notebook environment that requires no setup and runs entirely in the cloud.\n",
        "\n",
        "With Colaboratory you can write and execute code, save and share your analyses, and access powerful computing resources, all for free from your browser."
      ]
    },
    {
      "cell_type": "markdown",
      "metadata": {
        "id": "WyMo1KdPFIAB",
        "colab_type": "text"
      },
      "source": [
        "Initializing the parameters which are the initial stock price, the strike price, the time period, the interest rate and the volatility."
      ]
    },
    {
      "cell_type": "code",
      "metadata": {
        "id": "c3NpzNXr81nf",
        "colab_type": "code",
        "colab": {}
      },
      "source": [
        "import numpy as np\n",
        "import pandas as pd\n",
        "\n",
        "s=1\n",
        "k=1.1\n",
        "t=3\n",
        "r=0.06\n",
        "no_of_simulations=8\n",
        "sig=0.5"
      ],
      "execution_count": 0,
      "outputs": []
    },
    {
      "cell_type": "markdown",
      "metadata": {
        "id": "wiHPSWp7FixU",
        "colab_type": "text"
      },
      "source": [
        "Intializing the options parameter for some fixed values in the Monte Carlo Simulation"
      ]
    },
    {
      "cell_type": "code",
      "metadata": {
        "id": "bRh2GnK-zyOt",
        "colab_type": "code",
        "colab": {
          "base_uri": "https://localhost:8080/",
          "height": 54
        },
        "outputId": "a7bc505f-1fec-421d-87f2-08c9b62d8aa9"
      },
      "source": [
        "options=[[1,1.09,1.08,1.34],[1,1.16,1.26,1.54],[1,1.22,1.07,1.03],\n",
        "         [1,0.93,0.97,0.92],[1,1.11,1.56,1.52],[1,0.76,0.77,0.9],\n",
        "         [1,0.92,0.84,1.01],[1,0.88,1.22,1.34]]\n",
        "print(list(options))"
      ],
      "execution_count": 220,
      "outputs": [
        {
          "output_type": "stream",
          "text": [
            "[[1, 1.09, 1.08, 1.34], [1, 1.16, 1.26, 1.54], [1, 1.22, 1.07, 1.03], [1, 0.93, 0.97, 0.92], [1, 1.11, 1.56, 1.52], [1, 0.76, 0.77, 0.9], [1, 0.92, 0.84, 1.01], [1, 0.88, 1.22, 1.34]]\n"
          ],
          "name": "stdout"
        }
      ]
    },
    {
      "cell_type": "markdown",
      "metadata": {
        "id": "G7RPMZdkFt0h",
        "colab_type": "text"
      },
      "source": [
        "Randomly initialization of the values for the stock(options variable) for varing number of simulations for different time periods."
      ]
    },
    {
      "cell_type": "code",
      "metadata": {
        "id": "rd_IO1sT9ZgC",
        "colab_type": "code",
        "colab": {
          "base_uri": "https://localhost:8080/",
          "height": 153
        },
        "outputId": "0c8e55ae-8861-4c6a-de24-ab2ef531ff17"
      },
      "source": [
        "options=np.zeros((no_of_simulations,t+1))\n",
        "for i in range(no_of_simulations):\n",
        "  options[i][0]=1\n",
        "print(options)"
      ],
      "execution_count": 194,
      "outputs": [
        {
          "output_type": "stream",
          "text": [
            "[[1. 0. 0. 0.]\n",
            " [1. 0. 0. 0.]\n",
            " [1. 0. 0. 0.]\n",
            " [1. 0. 0. 0.]\n",
            " [1. 0. 0. 0.]\n",
            " [1. 0. 0. 0.]\n",
            " [1. 0. 0. 0.]\n",
            " [1. 0. 0. 0.]]\n"
          ],
          "name": "stdout"
        }
      ]
    },
    {
      "cell_type": "code",
      "metadata": {
        "id": "pBO_2Ipo97cP",
        "colab_type": "code",
        "colab": {
          "base_uri": "https://localhost:8080/",
          "height": 54
        },
        "outputId": "55c8a847-6291-4326-c40d-5728c4b49352"
      },
      "source": [
        "for i in range(no_of_simulations):\n",
        "  for j in range(1,t+1):\n",
        "    options[i][j]=np.exp(np.log(options[i][0])+(r-(sig**2/2))+(sig**2)*np.random.normal())\n",
        "print(options)"
      ],
      "execution_count": 154,
      "outputs": [
        {
          "output_type": "stream",
          "text": [
            "[[1, 0.5538621753965774, 1.2848524333075237, 0.7653917070982925], [1, 0.7549544873446716, 1.141438253405036, 0.9547416088827804], [1, 0.9926753940514375, 1.0290927618365344, 0.767357573249674], [1, 1.061362832618001, 1.2309155782161958, 1.0684923523421952], [1, 0.9992194832002755, 1.0593972443713418, 0.8925161446904742], [1, 0.685616035592464, 0.8616581678603924, 0.8523686977761157], [1, 0.5877485535558988, 0.8505028585874168, 0.9961363807549356], [1, 1.1393117221094804, 0.8836273716926246, 1.1180720185069524]]\n"
          ],
          "name": "stdout"
        }
      ]
    },
    {
      "cell_type": "markdown",
      "metadata": {
        "id": "gXp7VSlZF8lG",
        "colab_type": "text"
      },
      "source": [
        "For each option, the price of the stock is calculated as per the strike price."
      ]
    },
    {
      "cell_type": "code",
      "metadata": {
        "id": "aOo8H5plCBm5",
        "colab_type": "code",
        "colab": {
          "base_uri": "https://localhost:8080/",
          "height": 153
        },
        "outputId": "7670b11c-82f4-49f6-ad16-9e1dd4424705"
      },
      "source": [
        "prices=np.zeros((no_of_simulations,t))\n",
        "for i in range(no_of_simulations):\n",
        "  for j in range(t):\n",
        "    if(options[i][j+1]>k):\n",
        "      prices[i][j]=0\n",
        "    else:\n",
        "      prices[i][j]=k-options[i][j+1]\n",
        "print(prices)"
      ],
      "execution_count": 221,
      "outputs": [
        {
          "output_type": "stream",
          "text": [
            "[[0.01 0.02 0.  ]\n",
            " [0.   0.   0.  ]\n",
            " [0.   0.03 0.07]\n",
            " [0.17 0.13 0.18]\n",
            " [0.   0.   0.  ]\n",
            " [0.34 0.33 0.2 ]\n",
            " [0.18 0.26 0.09]\n",
            " [0.22 0.   0.  ]]\n"
          ],
          "name": "stdout"
        }
      ]
    },
    {
      "cell_type": "markdown",
      "metadata": {
        "id": "r7lLfuzkGRxy",
        "colab_type": "text"
      },
      "source": [
        "Calculation of the option price using the least squares method using polynomial regression."
      ]
    },
    {
      "cell_type": "code",
      "metadata": {
        "id": "B1DpXaPtDq7F",
        "colab_type": "code",
        "colab": {
          "base_uri": "https://localhost:8080/",
          "height": 323
        },
        "outputId": "2c306e61-3ad6-4690-9b2d-ea54b7d63cfc"
      },
      "source": [
        "vals=np.zeros((no_of_simulations,t))\n",
        "yr=t-1\n",
        "while(yr>0):\n",
        "  stock_values=[]\n",
        "  for j in range(no_of_simulations):\n",
        "    if(prices[j][yr-1]!=0):\n",
        "      arr=[]\n",
        "      arr.append(j)\n",
        "      arr.append(prices[j][yr]*np.exp(-r))\n",
        "      stock_values.append(arr)\n",
        "  n=len(stock_values)\n",
        "  one_order_sum=0\n",
        "  for i in range(len(stock_values)):\n",
        "    one_order_sum=one_order_sum+options[stock_values[i][0]][yr]\n",
        "  two_order_sum=0\n",
        "  for i in range(len(stock_values)):\n",
        "    two_order_sum=two_order_sum+options[stock_values[i][0]][yr]**2\n",
        "  three_order_sum=0\n",
        "  for i in range(len(stock_values)):\n",
        "    three_order_sum=three_order_sum+options[stock_values[i][0]][yr]**3\n",
        "  four_order_sum=0\n",
        "  for i in range(len(stock_values)):\n",
        "    four_order_sum=four_order_sum+options[stock_values[i][0]][yr]**4\n",
        "  y_prod=0\n",
        "  for i in range(len(stock_values)):\n",
        "    y_prod=y_prod+stock_values[i][1]\n",
        "  y_prod1=0\n",
        "  for i in range(len(stock_values)):\n",
        "    y_prod1=y_prod1+stock_values[i][1]*options[stock_values[i][0]][yr]\n",
        "  y_prod2=0\n",
        "  for i in range(len(stock_values)):\n",
        "    y_prod2=y_prod2+stock_values[i][1]*(options[stock_values[i][0]][yr]**2)\n",
        "  A=[[n,one_order_sum,two_order_sum],[one_order_sum,two_order_sum,three_order_sum],[two_order_sum,three_order_sum,four_order_sum]]\n",
        "  #print(A)\n",
        "  B=[y_prod,y_prod1,y_prod2]\n",
        "  #print(B)\n",
        "  C=np.matmul(np.linalg.inv(A),B)\n",
        "  #print(C)\n",
        "  c0=C[0]\n",
        "  c1=C[1]\n",
        "  c2=C[2]\n",
        "  vall=[]\n",
        "  print(C)\n",
        "  #print(stock_values)\n",
        "  #print(options)\n",
        "  for i in range(len(stock_values)):\n",
        "    new_values=[]\n",
        "    new_values.append(stock_values[i][0])\n",
        "    #print(options[stock_values[i][0]][yr])\n",
        "    new_values.append(c0+c1*options[stock_values[i][0]][yr]+c2*(options[stock_values[i][0]][yr]**2))\n",
        "    vall.append(new_values)\n",
        "  #print(vall)\n",
        "  for i in range(len(vall)):\n",
        "    #print(vall[i][1])\n",
        "    #print(prices[stock_values[i][0]][yr-1])\n",
        "    #print(vall[i][1]>prices[stock_values[i][0]][yr-1])\n",
        "    if(vall[i][1]>prices[stock_values[i][0]][yr-1]):\n",
        "      prices[stock_values[i][0]][yr-1]=0\n",
        "  print(prices)\n",
        "  yr=yr-1\n",
        "#print(stock_values) "
      ],
      "execution_count": 222,
      "outputs": [
        {
          "output_type": "stream",
          "text": [
            "[-1.06998766  2.98341063 -1.81357618]\n",
            "[[0.01 0.   0.  ]\n",
            " [0.   0.   0.  ]\n",
            " [0.   0.   0.07]\n",
            " [0.17 0.13 0.18]\n",
            " [0.   0.   0.  ]\n",
            " [0.34 0.33 0.2 ]\n",
            " [0.18 0.26 0.09]\n",
            " [0.22 0.   0.  ]]\n",
            "[ 2.03751234 -3.3354434   1.35645659]\n",
            "[[0.   0.   0.  ]\n",
            " [0.   0.   0.  ]\n",
            " [0.   0.   0.07]\n",
            " [0.17 0.13 0.18]\n",
            " [0.   0.   0.  ]\n",
            " [0.34 0.33 0.2 ]\n",
            " [0.18 0.26 0.09]\n",
            " [0.22 0.   0.  ]]\n"
          ],
          "name": "stdout"
        }
      ]
    },
    {
      "cell_type": "code",
      "metadata": {
        "id": "0nkDaEzbDRS1",
        "colab_type": "code",
        "colab": {
          "base_uri": "https://localhost:8080/",
          "height": 153
        },
        "outputId": "74b66f2d-e6f4-414d-aded-30e2011a6f5b"
      },
      "source": [
        "for i in range(len(prices)):\n",
        "  for j in range(len(prices[i])):\n",
        "    if(prices[i][j]!=0):\n",
        "      for k in range(j+1,len(prices[i])):\n",
        "        prices[i][k]=0\n",
        "print(prices)"
      ],
      "execution_count": 223,
      "outputs": [
        {
          "output_type": "stream",
          "text": [
            "[[0.   0.   0.  ]\n",
            " [0.   0.   0.  ]\n",
            " [0.   0.   0.07]\n",
            " [0.17 0.   0.  ]\n",
            " [0.   0.   0.  ]\n",
            " [0.34 0.   0.  ]\n",
            " [0.18 0.   0.  ]\n",
            " [0.22 0.   0.  ]]\n"
          ],
          "name": "stdout"
        }
      ]
    },
    {
      "cell_type": "markdown",
      "metadata": {
        "id": "VxkG3LfiGuzL",
        "colab_type": "text"
      },
      "source": [
        "Calculating the expected option value for a large number of simulations."
      ]
    },
    {
      "cell_type": "code",
      "metadata": {
        "id": "vk4FQY92D7nu",
        "colab_type": "code",
        "colab": {
          "base_uri": "https://localhost:8080/",
          "height": 34
        },
        "outputId": "e93fabd4-d6cf-4168-cfa3-7d823b001979"
      },
      "source": [
        "opt_value=0\n",
        "for i in range(len(prices)):\n",
        "  for j in range(len(prices[i])):\n",
        "    opt_value=opt_value+prices[i][j]*np.exp(-(j+1)*r)\n",
        "opt_value=opt_value/no_of_simulations\n",
        "print(opt_value)"
      ],
      "execution_count": 226,
      "outputs": [
        {
          "output_type": "stream",
          "text": [
            "0.11443433004505696\n"
          ],
          "name": "stdout"
        }
      ]
    },
    {
      "cell_type": "code",
      "metadata": {
        "colab_type": "code",
        "id": "xitplqMNk_Hc",
        "outputId": "ed4f60d2-878d-4056-c438-352dac39a112",
        "colab": {
          "height": 420
        }
      },
      "source": [
        "#@title Introducing Colaboratory { display-mode: \"form\" }\n",
        "#@markdown This 3-minute video gives an overview of the key features of Colaboratory:\n",
        "from IPython.display import YouTubeVideo\n",
        "YouTubeVideo('inN8seMm7UI', width=600, height=400)"
      ],
      "execution_count": 0,
      "outputs": [
        {
          "output_type": "execute_result",
          "data": {
            "text/html": [
              "\n",
              "        <iframe\n",
              "            width=\"600\"\n",
              "            height=\"400\"\n",
              "            src=\"https://www.youtube.com/embed/inN8seMm7UI\"\n",
              "            frameborder=\"0\"\n",
              "            allowfullscreen\n",
              "        ></iframe>\n",
              "        "
            ],
            "text/plain": [
              "<IPython.lib.display.YouTubeVideo at 0x7f956e9dda50>"
            ]
          },
          "metadata": {
            "tags": []
          },
          "execution_count": 0
        }
      ]
    },
    {
      "cell_type": "markdown",
      "metadata": {
        "colab_type": "text",
        "id": "GJBs_flRovLc"
      },
      "source": [
        "## Getting Started\n",
        "\n",
        "The document you are reading is a  [Jupyter notebook](https://jupyter.org/), hosted in Colaboratory. It is not a static page, but an interactive environment that lets you write and execute code in Python and other languages.\n",
        "\n",
        "For example, here is a **code cell** with a short Python script that computes a value, stores it in a variable, and prints the result:"
      ]
    },
    {
      "cell_type": "code",
      "metadata": {
        "colab_type": "code",
        "id": "gJr_9dXGpJ05",
        "outputId": "5626194c-e802-4293-942d-2908885c3c1f",
        "colab": {
          "height": 35
        }
      },
      "source": [
        "seconds_in_a_day = 24 * 60 * 60\n",
        "seconds_in_a_day"
      ],
      "execution_count": 0,
      "outputs": [
        {
          "output_type": "execute_result",
          "data": {
            "text/plain": [
              "86400"
            ]
          },
          "metadata": {
            "tags": []
          },
          "execution_count": 0
        }
      ]
    },
    {
      "cell_type": "markdown",
      "metadata": {
        "colab_type": "text",
        "id": "2fhs6GZ4qFMx"
      },
      "source": [
        "To execute the code in the above cell, select it with a click and then either press the play button to the left of the code, or use the keyboard shortcut \"Command/Ctrl+Enter\".\n",
        "\n",
        "All cells modify the same global state, so variables that you define by executing a cell can be used in other cells:"
      ]
    },
    {
      "cell_type": "code",
      "metadata": {
        "colab_type": "code",
        "id": "-gE-Ez1qtyIA",
        "outputId": "8d2e4259-4682-4e19-b683-7b9087f28820",
        "colab": {
          "height": 35
        }
      },
      "source": [
        "seconds_in_a_week = 7 * seconds_in_a_day\n",
        "seconds_in_a_week"
      ],
      "execution_count": 0,
      "outputs": [
        {
          "output_type": "execute_result",
          "data": {
            "text/plain": [
              "604800"
            ]
          },
          "metadata": {
            "tags": []
          },
          "execution_count": 0
        }
      ]
    },
    {
      "cell_type": "markdown",
      "metadata": {
        "colab_type": "text",
        "id": "lSrWNr3MuFUS"
      },
      "source": [
        "For more information about working with Colaboratory notebooks, see [Overview of Colaboratory](/notebooks/basic_features_overview.ipynb).\n"
      ]
    },
    {
      "cell_type": "markdown",
      "metadata": {
        "colab_type": "text",
        "id": "-Rh3-Vt9Nev9"
      },
      "source": [
        "## More Resources\n",
        "\n",
        "Learn how to make the most of Python, Jupyter, Colaboratory, and related tools with these resources:\n",
        "\n",
        "### Working with Notebooks in Colaboratory\n",
        "- [Overview of Colaboratory](/notebooks/basic_features_overview.ipynb)\n",
        "- [Guide to Markdown](/notebooks/markdown_guide.ipynb)\n",
        "- [Importing libraries and installing dependencies](/notebooks/snippets/importing_libraries.ipynb)\n",
        "- [Saving and loading notebooks in GitHub](https://colab.research.google.com/github/googlecolab/colabtools/blob/master/notebooks/colab-github-demo.ipynb)\n",
        "- [Interactive forms](/notebooks/forms.ipynb)\n",
        "- [Interactive widgets](/notebooks/widgets.ipynb)\n",
        "\n",
        "### Working with Data\n",
        "- [Loading data: Drive, Sheets, and Google Cloud Storage](/notebooks/io.ipynb) \n",
        "- [Charts: visualizing data](/notebooks/charts.ipynb)\n",
        "- [Getting started with BigQuery](/notebooks/bigquery.ipynb)\n",
        "\n",
        "### Machine Learning Crash Course\n",
        "These are a few of the notebooks from Google's online Machine Learning course. See the [full course website](https://developers.google.com/machine-learning/crash-course/) for more.\n",
        "- [Intro to Pandas](/notebooks/mlcc/intro_to_pandas.ipynb)\n",
        "- [Tensorflow concepts](/notebooks/mlcc/tensorflow_programming_concepts.ipynb)\n",
        "- [First steps with TensorFlow](/notebooks/mlcc/first_steps_with_tensor_flow.ipynb)\n",
        "- [Intro to neural nets](/notebooks/mlcc/intro_to_neural_nets.ipynb)\n",
        "- [Intro to sparse data and embeddings](/notebooks/mlcc/intro_to_sparse_data_and_embeddings.ipynb)\n",
        "\n",
        "### Using Accelerated Hardware\n",
        "- [TensorFlow with GPUs](/notebooks/gpu.ipynb)\n",
        "- [TensorFlow with TPUs](/notebooks/tpu.ipynb)"
      ]
    },
    {
      "cell_type": "markdown",
      "metadata": {
        "colab_type": "text",
        "id": "P-H6Lw1vyNNd"
      },
      "source": [
        "## Machine Learning Examples: Seedbank\n",
        "\n",
        "To see end-to-end examples of the interactive machine learning analyses that Colaboratory makes possible, check out the [Seedbank](https://research.google.com/seedbank/) project.\n",
        "\n",
        "A few featured examples:\n",
        "\n",
        "- [Neural Style Transfer](https://research.google.com/seedbank/seed/neural_style_transfer_with_tfkeras): Use deep learning to transfer style between images.\n",
        "- [EZ NSynth](https://research.google.com/seedbank/seed/ez_nsynth): Synthesize audio with WaveNet auto-encoders.\n",
        "- [Fashion MNIST with Keras and TPUs](https://research.google.com/seedbank/seed/fashion_mnist_with_keras_and_tpus): Classify fashion-related images with deep learning.\n",
        "- [DeepDream](https://research.google.com/seedbank/seed/deepdream): Produce DeepDream images from your own photos.\n",
        "- [Convolutional VAE](https://research.google.com/seedbank/seed/convolutional_vae): Create a generative model of handwritten digits."
      ]
    }
  ]
}